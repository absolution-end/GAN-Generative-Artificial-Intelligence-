{
  "nbformat": 4,
  "nbformat_minor": 0,
  "metadata": {
    "colab": {
      "provenance": [],
      "authorship_tag": "ABX9TyOzDPbkXuTSogZGHyHYG3G/",
      "include_colab_link": true
    },
    "kernelspec": {
      "name": "python3",
      "display_name": "Python 3"
    },
    "language_info": {
      "name": "python"
    }
  },
  "cells": [
    {
      "cell_type": "markdown",
      "metadata": {
        "id": "view-in-github",
        "colab_type": "text"
      },
      "source": [
        "<a href=\"https://colab.research.google.com/github/absolution-end/GAN-Generative-Artificial-Intelligence-/blob/main/Intro_to_PyTorch.ipynb\" target=\"_parent\"><img src=\"https://colab.research.google.com/assets/colab-badge.svg\" alt=\"Open In Colab\"/></a>"
      ]
    },
    {
      "cell_type": "code",
      "execution_count": 2,
      "metadata": {
        "id": "PWol2wcnk1oD"
      },
      "outputs": [],
      "source": [
        "import torch"
      ]
    },
    {
      "cell_type": "code",
      "source": [
        "example_tensor = torch.Tensor(\n",
        "    [\n",
        "     [[1, 2], [3, 4]],\n",
        "     [[5, 6], [7, 8]],\n",
        "     [[9, 0], [1, 2]]\n",
        "    ]\n",
        ")"
      ],
      "metadata": {
        "id": "CaXUnhPHlhx_"
      },
      "execution_count": 3,
      "outputs": []
    },
    {
      "cell_type": "code",
      "source": [
        "example_tensor"
      ],
      "metadata": {
        "colab": {
          "base_uri": "https://localhost:8080/"
        },
        "id": "URwUzw0Gna2i",
        "outputId": "fed8c3c8-a8f2-4203-bff3-3c82307256d5"
      },
      "execution_count": 4,
      "outputs": [
        {
          "output_type": "execute_result",
          "data": {
            "text/plain": [
              "tensor([[[1., 2.],\n",
              "         [3., 4.]],\n",
              "\n",
              "        [[5., 6.],\n",
              "         [7., 8.]],\n",
              "\n",
              "        [[9., 0.],\n",
              "         [1., 2.]]])"
            ]
          },
          "metadata": {},
          "execution_count": 4
        }
      ]
    },
    {
      "cell_type": "markdown",
      "source": [
        "Tensor Properties"
      ],
      "metadata": {
        "id": "xcQKAtKPnphf"
      }
    },
    {
      "cell_type": "code",
      "source": [
        "#Tensor device\n",
        "example_tensor.device"
      ],
      "metadata": {
        "colab": {
          "base_uri": "https://localhost:8080/"
        },
        "id": "uvfwLiNDnefM",
        "outputId": "e748088a-f175-45b5-844d-85e2516f1d40"
      },
      "execution_count": 5,
      "outputs": [
        {
          "output_type": "execute_result",
          "data": {
            "text/plain": [
              "device(type='cpu')"
            ]
          },
          "metadata": {},
          "execution_count": 5
        }
      ]
    },
    {
      "cell_type": "code",
      "source": [
        "example_tensor.shape"
      ],
      "metadata": {
        "colab": {
          "base_uri": "https://localhost:8080/"
        },
        "id": "JDQYiq3Bn3PE",
        "outputId": "cf0ec1a1-052e-49f1-bf22-1bf05dba7c5b"
      },
      "execution_count": 6,
      "outputs": [
        {
          "output_type": "execute_result",
          "data": {
            "text/plain": [
              "torch.Size([3, 2, 2])"
            ]
          },
          "metadata": {},
          "execution_count": 6
        }
      ]
    },
    {
      "cell_type": "code",
      "source": [
        "print(\"shape[0]=\", example_tensor.shape[0])\n",
        "print(\"Tensor size\", example_tensor.size(1))"
      ],
      "metadata": {
        "colab": {
          "base_uri": "https://localhost:8080/"
        },
        "id": "QVUQB7gnn-bR",
        "outputId": "ab672483-408e-4c02-d8ab-e536d8ff8965"
      },
      "execution_count": 7,
      "outputs": [
        {
          "output_type": "stream",
          "name": "stdout",
          "text": [
            "shape[0]= 3\n",
            "Tensor size 2\n"
          ]
        }
      ]
    },
    {
      "cell_type": "code",
      "source": [
        "print(\"Rank\", len(example_tensor.shape))\n",
        "print(\"Number of elements\", example_tensor.numel())"
      ],
      "metadata": {
        "colab": {
          "base_uri": "https://localhost:8080/"
        },
        "id": "_7tHUV_loKtv",
        "outputId": "acb0763d-d710-4a66-c242-d28dab292fef"
      },
      "execution_count": 8,
      "outputs": [
        {
          "output_type": "stream",
          "name": "stdout",
          "text": [
            "Rank 3\n",
            "Number of elements 12\n"
          ]
        }
      ]
    },
    {
      "cell_type": "markdown",
      "source": [
        "Indexing Tensors"
      ],
      "metadata": {
        "id": "rgCA3Mg3pxF9"
      }
    },
    {
      "cell_type": "code",
      "source": [
        "# To access nth element you can just type examplr_tensor[n]\n",
        "example_tensor[1]"
      ],
      "metadata": {
        "colab": {
          "base_uri": "https://localhost:8080/"
        },
        "id": "2M172YMFpoy0",
        "outputId": "dfa42ce4-2074-4edb-f61e-10881e5fe8ae"
      },
      "execution_count": 9,
      "outputs": [
        {
          "output_type": "execute_result",
          "data": {
            "text/plain": [
              "tensor([[5., 6.],\n",
              "        [7., 8.]])"
            ]
          },
          "metadata": {},
          "execution_count": 9
        }
      ]
    },
    {
      "cell_type": "code",
      "source": [
        "# If you wanted to access jth element in ith row you can type\n",
        "example_tensor[1,1,1]"
      ],
      "metadata": {
        "colab": {
          "base_uri": "https://localhost:8080/"
        },
        "id": "dYSbXQzLp47x",
        "outputId": "c82adfb3-9519-4862-ca6b-8dd2ddbcef38"
      },
      "execution_count": 10,
      "outputs": [
        {
          "output_type": "execute_result",
          "data": {
            "text/plain": [
              "tensor(8.)"
            ]
          },
          "metadata": {},
          "execution_count": 10
        }
      ]
    },
    {
      "cell_type": "code",
      "source": [
        "# If you want sclar value from tensor you can use\n",
        "example_scalar = example_tensor[0,1,1]\n",
        "example_scalar.item()"
      ],
      "metadata": {
        "colab": {
          "base_uri": "https://localhost:8080/"
        },
        "id": "9IahJiGbqoq7",
        "outputId": "9916d220-ea94-44fb-9686-77b3e135ecde"
      },
      "execution_count": 11,
      "outputs": [
        {
          "output_type": "execute_result",
          "data": {
            "text/plain": [
              "4.0"
            ]
          },
          "metadata": {},
          "execution_count": 11
        }
      ]
    },
    {
      "cell_type": "code",
      "source": [
        "# if you want left elemet of each row you can type\n",
        "example_tensor[:,0,0]"
      ],
      "metadata": {
        "colab": {
          "base_uri": "https://localhost:8080/"
        },
        "id": "sEdZLOFXvWGY",
        "outputId": "e88be2be-fd6c-4b3e-856e-acfce643de46"
      },
      "execution_count": 12,
      "outputs": [
        {
          "output_type": "execute_result",
          "data": {
            "text/plain": [
              "tensor([1., 5., 9.])"
            ]
          },
          "metadata": {},
          "execution_count": 12
        }
      ]
    },
    {
      "cell_type": "markdown",
      "source": [
        "There are many ways to create tensor but in this course we will be focusing on the most important ones:"
      ],
      "metadata": {
        "id": "df7lQHVuv0G0"
      }
    },
    {
      "cell_type": "code",
      "source": [
        "# torch.one_like: create tensor of all ones with the same shape and device as example tensor.\n",
        "torch.ones_like(example_tensor)"
      ],
      "metadata": {
        "colab": {
          "base_uri": "https://localhost:8080/"
        },
        "id": "3RTPm63svsm6",
        "outputId": "52a25e4f-0319-4b20-b23b-662f8bf1456e"
      },
      "execution_count": 13,
      "outputs": [
        {
          "output_type": "execute_result",
          "data": {
            "text/plain": [
              "tensor([[[1., 1.],\n",
              "         [1., 1.]],\n",
              "\n",
              "        [[1., 1.],\n",
              "         [1., 1.]],\n",
              "\n",
              "        [[1., 1.],\n",
              "         [1., 1.]]])"
            ]
          },
          "metadata": {},
          "execution_count": 13
        }
      ]
    },
    {
      "cell_type": "code",
      "source": [
        "torch.zeros_like(example_tensor)"
      ],
      "metadata": {
        "colab": {
          "base_uri": "https://localhost:8080/"
        },
        "id": "Udan0J0ag9gF",
        "outputId": "5e45b595-cc4d-43b5-b48a-00cf7458b65d"
      },
      "execution_count": 14,
      "outputs": [
        {
          "output_type": "execute_result",
          "data": {
            "text/plain": [
              "tensor([[[0., 0.],\n",
              "         [0., 0.]],\n",
              "\n",
              "        [[0., 0.],\n",
              "         [0., 0.]],\n",
              "\n",
              "        [[0., 0.],\n",
              "         [0., 0.]]])"
            ]
          },
          "metadata": {},
          "execution_count": 14
        }
      ]
    },
    {
      "cell_type": "code",
      "source": [
        "torch.randn_like(example_tensor)"
      ],
      "metadata": {
        "colab": {
          "base_uri": "https://localhost:8080/"
        },
        "id": "_Ya2cY01hWCa",
        "outputId": "cc82d4f8-6114-43ab-c90f-b61879b8abc9"
      },
      "execution_count": 15,
      "outputs": [
        {
          "output_type": "execute_result",
          "data": {
            "text/plain": [
              "tensor([[[ 0.2287, -2.5633],\n",
              "         [ 0.7823, -0.3218]],\n",
              "\n",
              "        [[ 0.1252,  0.4425],\n",
              "         [-0.1076, -0.7846]],\n",
              "\n",
              "        [[ 0.0194, -0.5446],\n",
              "         [ 0.0952, -0.8156]]])"
            ]
          },
          "metadata": {},
          "execution_count": 15
        }
      ]
    },
    {
      "cell_type": "code",
      "source": [
        "# one can create tensor with just knowing shape and device of without a tensor for a refrence for one.likes, zero.likes and randn_likes etc.\n",
        "torch.randn(4,4, 4, device='cpu')\n",
        "# Alternatively, for GPU tensor, you'd use device='cuda'"
      ],
      "metadata": {
        "colab": {
          "base_uri": "https://localhost:8080/"
        },
        "id": "D-t8kaedjYXG",
        "outputId": "033398bf-ca04-4865-b1dc-f80a76c1828e"
      },
      "execution_count": 16,
      "outputs": [
        {
          "output_type": "execute_result",
          "data": {
            "text/plain": [
              "tensor([[[ 0.0158, -1.0861,  0.9681, -0.8315],\n",
              "         [ 1.8889,  0.8312,  2.1752,  0.9364],\n",
              "         [ 0.2793,  0.0550, -0.7327, -0.6363],\n",
              "         [ 0.4245, -0.3809, -0.4979,  0.5038]],\n",
              "\n",
              "        [[-0.0148, -0.2667,  1.3082,  0.4039],\n",
              "         [-1.0548,  1.3085, -0.9544,  2.0091],\n",
              "         [ 1.5289,  0.9508,  0.5424,  0.3159],\n",
              "         [-0.6354, -1.4152,  1.3646,  0.3915]],\n",
              "\n",
              "        [[ 0.5137, -0.6044,  0.5334,  1.8360],\n",
              "         [-1.6103, -1.8859, -0.3433,  0.3298],\n",
              "         [-0.6107, -0.5942,  1.1547,  0.9740],\n",
              "         [-0.3924,  1.7235, -0.1710,  0.5162]],\n",
              "\n",
              "        [[-0.2904,  0.7228, -0.9276, -0.0861],\n",
              "         [-1.0101, -0.2936,  1.0071, -0.7151],\n",
              "         [ 0.0267,  0.7637, -0.2713, -0.3038],\n",
              "         [-0.8279, -1.0856,  1.7965,  1.7791]]])"
            ]
          },
          "metadata": {},
          "execution_count": 16
        }
      ]
    },
    {
      "cell_type": "markdown",
      "source": [
        "Basic functions as in numpy (+,-,*,/)"
      ],
      "metadata": {
        "id": "o-SSxaESrj-0"
      }
    },
    {
      "cell_type": "code",
      "source": [
        "(example_tensor - 5)*5"
      ],
      "metadata": {
        "colab": {
          "base_uri": "https://localhost:8080/"
        },
        "id": "Ix-RExG9mKFb",
        "outputId": "80ce8f6d-9d89-483f-8379-5ad373618218"
      },
      "execution_count": 17,
      "outputs": [
        {
          "output_type": "execute_result",
          "data": {
            "text/plain": [
              "tensor([[[-20., -15.],\n",
              "         [-10.,  -5.]],\n",
              "\n",
              "        [[  0.,   5.],\n",
              "         [ 10.,  15.]],\n",
              "\n",
              "        [[ 20., -25.],\n",
              "         [-20., -15.]]])"
            ]
          },
          "metadata": {},
          "execution_count": 17
        }
      ]
    },
    {
      "cell_type": "code",
      "source": [
        "# can calculate mean or standard deviation of tensor using example_tensor.mean() or example_tensor.std()\n",
        "print(\"mean\", example_tensor.mean())\n",
        "print(\"standard deviation\", example_tensor.std())"
      ],
      "metadata": {
        "colab": {
          "base_uri": "https://localhost:8080/"
        },
        "id": "FNOR39OAr9Gg",
        "outputId": "021c4cb0-e89e-4ee6-cc1b-598474949fed"
      },
      "execution_count": 18,
      "outputs": [
        {
          "output_type": "stream",
          "name": "stdout",
          "text": [
            "mean tensor(4.)\n",
            "standard deviation tensor(2.9848)\n"
          ]
        }
      ]
    },
    {
      "cell_type": "code",
      "source": [
        "# You might also want to find the mean or standard deviation along a particular dimension. To do this you can simple pass the number corresponding to that dimension to the function. For example, if you want to get the average  2×2\n",
        "# matrix of the  3×2×2\n",
        "# example_tensor you can write:\n",
        "\n",
        "example_tensor.mean(0)\n",
        "\n",
        "# Equivalently, you could also write:\n",
        "# example_tensor.mean(dim=0)\n",
        "# example_tensor.mean(axis=0)\n",
        "# torch.mean(example_tensor, 0)\n",
        "# torch.mean(example_tensor, dim=0)\n",
        "# torch.mean(example_tensor, axis=0)\n"
      ],
      "metadata": {
        "colab": {
          "base_uri": "https://localhost:8080/"
        },
        "id": "cGYcBs8Zsutl",
        "outputId": "6e68d4d9-0b93-4908-96a3-2edd1e1c3941"
      },
      "execution_count": 19,
      "outputs": [
        {
          "output_type": "execute_result",
          "data": {
            "text/plain": [
              "tensor([[5.0000, 2.6667],\n",
              "        [3.6667, 4.6667]])"
            ]
          },
          "metadata": {},
          "execution_count": 19
        }
      ]
    },
    {
      "cell_type": "markdown",
      "source": [
        "Pytorch neural network model"
      ],
      "metadata": {
        "id": "RbZir3om7W08"
      }
    },
    {
      "cell_type": "code",
      "source": [
        "import torch.nn as nn"
      ],
      "metadata": {
        "id": "T9VGdcLevfKh"
      },
      "execution_count": 20,
      "outputs": []
    },
    {
      "cell_type": "markdown",
      "source": [
        "To create neural network linear layer nn.Linear"
      ],
      "metadata": {
        "id": "Kh2z4Qb17zzT"
      }
    },
    {
      "cell_type": "code",
      "source": [
        "# to create a linear layer you need to pass the number of input dimentions and number of output dimentions\n",
        "# nn.Linear(10,2)--> we will take n x 10 matrx and 2 x n matrix\n",
        "# where all n have the same linear transformation\n",
        "# linear layer perfroms Ax + B operations"
      ],
      "metadata": {
        "id": "U0XBvhPM7RBw"
      },
      "execution_count": 21,
      "outputs": []
    },
    {
      "cell_type": "code",
      "source": [
        "Linear = nn.Linear(10,2)\n",
        "example_input = torch.randn(3,10)\n",
        "example_output = Linear(example_input)\n",
        "example_output"
      ],
      "metadata": {
        "colab": {
          "base_uri": "https://localhost:8080/"
        },
        "id": "nzvhaObu-x4D",
        "outputId": "a4f7c6b0-78c6-4cd1-91d5-a531e7ad45f7"
      },
      "execution_count": 22,
      "outputs": [
        {
          "output_type": "execute_result",
          "data": {
            "text/plain": [
              "tensor([[-0.7137, -0.2874],\n",
              "        [-0.7680, -0.4531],\n",
              "        [-0.4101,  1.0905]], grad_fn=<AddmmBackward0>)"
            ]
          },
          "metadata": {},
          "execution_count": 22
        }
      ]
    },
    {
      "cell_type": "markdown",
      "source": [
        "ReLU --> mean non-zero numbers"
      ],
      "metadata": {
        "id": "pswh816ZBCyB"
      }
    },
    {
      "cell_type": "code",
      "source": [
        "  relu = nn.ReLU()\n",
        "  relu_output = relu(example_output)\n",
        "  relu_output"
      ],
      "metadata": {
        "colab": {
          "base_uri": "https://localhost:8080/"
        },
        "id": "ghThVh0P_iz8",
        "outputId": "8789eb39-96f0-41c3-e825-34793e3a37e5"
      },
      "execution_count": 23,
      "outputs": [
        {
          "output_type": "execute_result",
          "data": {
            "text/plain": [
              "tensor([[0.0000, 0.0000],\n",
              "        [0.0000, 0.0000],\n",
              "        [0.0000, 1.0905]], grad_fn=<ReluBackward0>)"
            ]
          },
          "metadata": {},
          "execution_count": 23
        }
      ]
    },
    {
      "cell_type": "markdown",
      "source": [
        "**nn.BatchNorm1d**\n",
        "\n",
        "nn.BatchNorm1d is a normalization technique that will rescale a batch of  𝑛\n",
        "  inputs to have a consistent mean and standard deviation between batches.\n",
        "\n",
        "As indicated by the 1d in its name, this is for situations where you expect a set of inputs, where each of them is a flat list of numbers. In other words, each input is a vector, not a matrix or higher-dimensional tensor. For a set of images, each of which is a higher-dimensional tensor, you'd use nn.BatchNorm2d, discussed later on this page.\n",
        "\n",
        "nn.BatchNorm1d takes an argument of the number of input dimensions of each object in the batch (the size of each example vector)."
      ],
      "metadata": {
        "id": "oWb-lAWBEMh4"
      }
    },
    {
      "cell_type": "code",
      "source": [
        "batchnorm = nn.BatchNorm1d(2)\n",
        "batchnorm_output =batchnorm(relu_output)\n",
        "batchnorm_output"
      ],
      "metadata": {
        "colab": {
          "base_uri": "https://localhost:8080/"
        },
        "id": "WA5XmTg6BqJR",
        "outputId": "6b5106d1-217d-495e-85b1-b79ab7b2960c"
      },
      "execution_count": 24,
      "outputs": [
        {
          "output_type": "execute_result",
          "data": {
            "text/plain": [
              "tensor([[ 0.0000, -0.7071],\n",
              "        [ 0.0000, -0.7071],\n",
              "        [ 0.0000,  1.4142]], grad_fn=<NativeBatchNormBackward0>)"
            ]
          },
          "metadata": {},
          "execution_count": 24
        }
      ]
    },
    {
      "cell_type": "markdown",
      "source": [
        "**nn.Sequential**\n",
        "\n",
        "nn.Sequential creates a single operation that performs a sequence of operations. For example, you can write a neural network layer with a batch normalization as\n",
        "\n"
      ],
      "metadata": {
        "id": "MHdjgG64FR9S"
      }
    },
    {
      "cell_type": "code",
      "source": [
        "mlp_layer = nn.Sequential(\n",
        "    nn.Linear(5,2),\n",
        "    nn.BatchNorm1d(2),\n",
        "    nn.ReLU()\n",
        ")\n",
        "\n",
        "test_example = torch.randn(5,5) + 1\n",
        "print(\"input: \")\n",
        "print(test_example)\n",
        "print(\"output: \")\n",
        "print(mlp_layer(test_example))"
      ],
      "metadata": {
        "colab": {
          "base_uri": "https://localhost:8080/"
        },
        "id": "FrK6cp5oE70H",
        "outputId": "1238fb41-4d7c-4866-fd7c-0845a0f0898d"
      },
      "execution_count": 25,
      "outputs": [
        {
          "output_type": "stream",
          "name": "stdout",
          "text": [
            "input: \n",
            "tensor([[ 0.5617,  0.2386,  0.0513,  0.1183, -0.7730],\n",
            "        [ 2.3384,  0.1083,  0.5582,  1.6016,  1.2227],\n",
            "        [ 1.1525,  0.7474,  2.0256,  0.9019, -0.0505],\n",
            "        [ 2.5681, -0.8107,  2.3292, -0.3438,  1.0129],\n",
            "        [ 2.2647,  1.1892,  0.5103,  0.6676,  0.7877]])\n",
            "output: \n",
            "tensor([[0.0000, 1.7783],\n",
            "        [0.5916, 0.0000],\n",
            "        [1.0937, 0.0000],\n",
            "        [0.0000, 0.3761],\n",
            "        [0.6263, 0.0000]], grad_fn=<ReluBackward0>)\n"
          ]
        }
      ]
    },
    {
      "cell_type": "markdown",
      "source": [
        "**Optimization**\n",
        "\n",
        "One of the most important aspects of essentially any machine learning framework is its automatic differentiation library."
      ],
      "metadata": {
        "id": "XqOhx58IQQy0"
      }
    },
    {
      "cell_type": "markdown",
      "source": [
        "**Optimizers**\n",
        "\n",
        "To create an optimizer in PyTorch, you'll need to use the torch.optim module, often imported as optim. optim.Adam corresponds to the Adam optimizer. To create an optimizer object, you'll need to pass it the parameters to be optimized and the learning rate, lr, as well as any other parameters specific to the optimizer.\n",
        "\n",
        "For all nn objects, you can access their parameters as a list using their parameters() method, as follows:\n",
        "\n",
        "Optimization in machine learning uses automatic differentiation to update model parameters. In PyTorch, the torch.optim module provides optimizers like optim.Adam. To use it, pass the model parameters and a learning rate (lr) to the optimizer. You can get these parameters from any neural network (nn) object using the parameters() method.\n",
        "\n",
        "\n",
        "\n",
        "\n",
        "\n",
        "\n",
        "\n"
      ],
      "metadata": {
        "id": "CWK0G2fIQVS1"
      }
    },
    {
      "cell_type": "code",
      "source": [
        "import torch.optim as optim\n",
        "adam_opt = optim.Adam(mlp_layer.parameters(), lr=1e+1)"
      ],
      "metadata": {
        "id": "S62lbqpXIl2D"
      },
      "execution_count": 26,
      "outputs": []
    },
    {
      "cell_type": "markdown",
      "source": [
        "Training Loop\n",
        "A (basic) training step in PyTorch consists of four basic parts:\n",
        "\n",
        "\n",
        "\n",
        "1.  Set all of the gradients to zero using opt.zero_grad()\n",
        "2.  Calculate the loss, loss\n",
        "1.  Calculate the gradients with respect to the loss using loss.backward()\n",
        "2.  Update the parameters being optimized using opt.step()\n",
        "\n",
        "That might look like the following code (and you'll notice that if you run it several times, the loss goes down):"
      ],
      "metadata": {
        "id": "wGfG3jBLx7Fj"
      }
    },
    {
      "cell_type": "code",
      "source": [
        "train_example = torch.randn(100,5)  +  1\n",
        "adam_opt.zero_grad()\n",
        "# we will use a simple loss function of mean distance 1\n",
        "# torch.abs takes the absolute value of a tensor\n",
        "cur_loss = torch.abs(1 - mlp_layer(train_example)).mean()\n",
        "cur_loss.backward()\n",
        "adam_opt.step()\n",
        "print(cur_loss)"
      ],
      "metadata": {
        "colab": {
          "base_uri": "https://localhost:8080/"
        },
        "id": "YmyXUmbbxBV2",
        "outputId": "6825af65-2ff1-436e-b915-e9143d45510c"
      },
      "execution_count": 27,
      "outputs": [
        {
          "output_type": "stream",
          "name": "stdout",
          "text": [
            "tensor(0.7728, grad_fn=<MeanBackward0>)\n"
          ]
        }
      ]
    },
    {
      "cell_type": "markdown",
      "source": [
        "**requires_grad_()**\n",
        "\n",
        "You can also tell PyTorch that it needs to calculate the gradient with respect to a tensor that you created by saying example_tensor.requires_grad_(), which will change it in-place. This means that even if PyTorch wouldn't normally store a grad for that particular tensor, it will for that specified tensor."
      ],
      "metadata": {
        "id": "pNcoEiuv6mEA"
      }
    },
    {
      "cell_type": "markdown",
      "source": [
        "**with torch.no_grad():**\n",
        "\n",
        "PyTorch will usually calculate the gradients as it proceeds through a set of operations on tensors. This can often take up unnecessary computations and memory, especially if you're performing an evaluation. However, you can wrap a piece of code with with torch.no_grad() to prevent the gradients from being calculated in a piece of code."
      ],
      "metadata": {
        "id": "qTn_C98h6s6W"
      }
    },
    {
      "cell_type": "markdown",
      "source": [
        "**detach():**\n",
        "\n",
        "Sometimes, you want to calculate and use a tensor's value without calculating its gradients. For example, if you have two models, A and B, and you want to directly optimize the parameters of A with respect to the output of B, without calculating the gradients through B, then you could feed the detached output of B to A. There are many reasons you might want to do this, including efficiency or cyclical dependencies (i.e. A depends on B depends on A)."
      ],
      "metadata": {
        "id": "q5y2w1K60WXd"
      }
    },
    {
      "cell_type": "markdown",
      "source": [
        "**New nn Classes**\n",
        "\n",
        "You can also create new classes which extend the nn module. For these classes, all class attributes, as in self.layer or self.param will automatically treated as parameters if they are themselves nn objects or if they are tensors wrapped in nn.Parameter which are initialized with the class.\n",
        "\n",
        "The __init__ function defines what will happen when the object is created. The first line of the init function of a class, for example, WellNamedClass, needs to be super(WellNamedClass, self).__init__().\n",
        "\n",
        "The forward function defines what runs if you create that object model and pass it a tensor x, as in model(x). If you choose the function signature, (self, x), then each call of the forward function, gets two pieces of information: self, which is a reference to the object with which you can access all of its parameters, and x, which is the current tensor for which you'd like to return y."
      ],
      "metadata": {
        "id": "nEh-POZ30ZR5"
      }
    },
    {
      "cell_type": "code",
      "source": [
        "class ExampleModule(nn.Module):\n",
        "    def __init__(self, input_dims, output_dims):\n",
        "        super(ExampleModule, self).__init__()\n",
        "        self.linear = nn.Linear(input_dims, output_dims)\n",
        "        self.exponent = nn.Parameter(torch.tensor(1.))\n",
        "\n",
        "    def forward(self, x):\n",
        "        x = self.linear(x)\n",
        "\n",
        "        # This is the notation for element-wise exponentiation,\n",
        "        # which matches python in general\n",
        "        x = x ** self.exponent\n",
        "\n",
        "        return x"
      ],
      "metadata": {
        "id": "v_XuqT0b6-Wz"
      },
      "execution_count": 28,
      "outputs": []
    },
    {
      "cell_type": "code",
      "source": [
        "example_model = ExampleModule(10,2)\n",
        "list(example_model.parameters())"
      ],
      "metadata": {
        "colab": {
          "base_uri": "https://localhost:8080/"
        },
        "id": "ho9qpBq_3ISW",
        "outputId": "e137dd04-b556-48f4-8290-93d23aa43c7f"
      },
      "execution_count": 29,
      "outputs": [
        {
          "output_type": "execute_result",
          "data": {
            "text/plain": [
              "[Parameter containing:\n",
              " tensor(1., requires_grad=True),\n",
              " Parameter containing:\n",
              " tensor([[-0.2579, -0.1268, -0.0090, -0.2341,  0.0105, -0.2143,  0.1342, -0.1686,\n",
              "          -0.1353, -0.1899],\n",
              "         [ 0.0344,  0.2634,  0.2609,  0.2903, -0.0438, -0.0649,  0.1619,  0.1334,\n",
              "          -0.0815,  0.2821]], requires_grad=True),\n",
              " Parameter containing:\n",
              " tensor([-0.2286,  0.0875], requires_grad=True)]"
            ]
          },
          "metadata": {},
          "execution_count": 29
        }
      ]
    },
    {
      "cell_type": "code",
      "source": [
        "list(example_model.named_parameters())"
      ],
      "metadata": {
        "colab": {
          "base_uri": "https://localhost:8080/"
        },
        "id": "nS3mDk48BzU7",
        "outputId": "06b4e1b2-da3f-4f07-e645-d66dde50d5ec"
      },
      "execution_count": 30,
      "outputs": [
        {
          "output_type": "execute_result",
          "data": {
            "text/plain": [
              "[('exponent',\n",
              "  Parameter containing:\n",
              "  tensor(1., requires_grad=True)),\n",
              " ('linear.weight',\n",
              "  Parameter containing:\n",
              "  tensor([[-0.2579, -0.1268, -0.0090, -0.2341,  0.0105, -0.2143,  0.1342, -0.1686,\n",
              "           -0.1353, -0.1899],\n",
              "          [ 0.0344,  0.2634,  0.2609,  0.2903, -0.0438, -0.0649,  0.1619,  0.1334,\n",
              "           -0.0815,  0.2821]], requires_grad=True)),\n",
              " ('linear.bias',\n",
              "  Parameter containing:\n",
              "  tensor([-0.2286,  0.0875], requires_grad=True))]"
            ]
          },
          "metadata": {},
          "execution_count": 30
        }
      ]
    },
    {
      "cell_type": "code",
      "source": [
        "input = torch.randn(2,10)\n",
        "example_model(input)"
      ],
      "metadata": {
        "colab": {
          "base_uri": "https://localhost:8080/"
        },
        "id": "79HAMxk3CKcA",
        "outputId": "1a7df8b7-7807-4674-e776-79772771dc8d"
      },
      "execution_count": 31,
      "outputs": [
        {
          "output_type": "execute_result",
          "data": {
            "text/plain": [
              "tensor([[-0.8105,  0.5930],\n",
              "        [ 0.4082,  0.3206]], grad_fn=<PowBackward1>)"
            ]
          },
          "metadata": {},
          "execution_count": 31
        }
      ]
    },
    {
      "cell_type": "markdown",
      "source": [
        "**2D Operations**\n",
        "\n",
        "You won't need these for the first lesson, and the theory behind each of these will be reviewed more in later lectures, but here is a quick reference:\n",
        "\n",
        "2D convolutions: nn.Conv2d requires the number of input and output channels, as well as the kernel size.\n",
        "2D transposed convolutions (aka deconvolutions): nn.ConvTranspose2d also requires the number of input and output channels, as well as the kernel size\n",
        "2D batch normalization: nn.BatchNorm2d requires the number of input dimensions\n",
        "Resizing images: nn.Upsample requires the final size or a scale factor. Alternatively, nn.functional.interpolate takes the same arguments."
      ],
      "metadata": {
        "id": "y6BMlGSYClQ9"
      }
    }
  ]
}